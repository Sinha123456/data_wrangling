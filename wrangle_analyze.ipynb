{
  "nbformat": 4,
  "nbformat_minor": 0,
  "metadata": {
    "colab": {
      "name": "wrangle_analyze.ipynb",
      "provenance": [],
      "authorship_tag": "ABX9TyNeoidWQ/hXty8pL6H4ziO6",
      "include_colab_link": true
    },
    "kernelspec": {
      "name": "python3",
      "display_name": "Python 3"
    }
  },
  "cells": [
    {
      "cell_type": "markdown",
      "metadata": {
        "id": "view-in-github",
        "colab_type": "text"
      },
      "source": [
        "<a href=\"https://colab.research.google.com/github/Sinha123456/data_wrangling/blob/main/wrangle_analyze.ipynb\" target=\"_parent\"><img src=\"https://colab.research.google.com/assets/colab-badge.svg\" alt=\"Open In Colab\"/></a>"
      ]
    },
    {
      "cell_type": "markdown",
      "metadata": {
        "id": "21cY01ZPrXMD"
      },
      "source": [
        "# Wrangle and Analyze\r\n",
        "\r\n",
        "In that project task we have to collect data from twitter website, In order to get data from the twitter we need to get Twitter API, therefore we can access data from the twitter website. In the real world data is messy, dirty and untidy, our task is to clean messy data, tidy data make easily visualization in all aspects.\r\n",
        "\r\n",
        "In that project we are using **WeRateDog**s data. In that dataset, we will be wrangling (and analyzing and visualizing) is the tweet archive of Twitter user @dog_rates, also known as WeRateDogs. WeRateDogs is a Twitter account that rates people's dogs with a humorous comment about the dog. These ratings almost always have a denominator of 10. The numerators, though? Almost always greater than 10. 11/10, 12/10, 13/10, etc. Why? Because \"they're good dogs Brent.\" WeRateDogs has over 4 million followers and has received international media coverage."
      ]
    },
    {
      "cell_type": "code",
      "metadata": {
        "colab": {
          "base_uri": "https://localhost:8080/"
        },
        "id": "e6c5QASSv0GL",
        "outputId": "541f7416-7e20-4bb8-a2b3-ff37c7369a07"
      },
      "source": [
        "from google.colab import drive\r\n",
        "drive.mount('/content/drive')"
      ],
      "execution_count": null,
      "outputs": [
        {
          "output_type": "stream",
          "text": [
            "Drive already mounted at /content/drive; to attempt to forcibly remount, call drive.mount(\"/content/drive\", force_remount=True).\n"
          ],
          "name": "stdout"
        }
      ]
    },
    {
      "cell_type": "code",
      "metadata": {
        "id": "1mnRdmMvwCkk"
      },
      "source": [
        "import pandas as pd\r\n",
        "import numpy as np\r\n",
        "import os\r\n",
        "import re\r\n",
        "import requests\r\n",
        "import tweepy\r\n",
        "import datetime\r\n",
        "import timeit\r\n",
        "import matplotlib.pyplot as plt\r\n",
        "import seaborn as sns\r\n",
        "%matplotlib inline"
      ],
      "execution_count": null,
      "outputs": []
    },
    {
      "cell_type": "code",
      "metadata": {
        "id": "W6DTx7vHEv4Q"
      },
      "source": [
        "consumer_key = ''\r\n",
        "consumer_secret = ''\r\n",
        "access_token = ''\r\n",
        "access_secret = ''\r\n",
        "\r\n",
        "auth = tweepy.OAuthHandler(consumer_key, consumer_secret)\r\n",
        "auth.set_access_token(access_token, access_secret)\r\n",
        "\r\n"
      ],
      "execution_count": null,
      "outputs": []
    },
    {
      "cell_type": "code",
      "metadata": {
        "id": "rzbyHuAlkjHB"
      },
      "source": [
        "tweet_enhance = pd.read_csv('/content/drive/MyDrive/Colab Notebooks/udacity_projects/twitter-archive-enhanced.csv')"
      ],
      "execution_count": null,
      "outputs": []
    },
    {
      "cell_type": "code",
      "metadata": {
        "colab": {
          "base_uri": "https://localhost:8080/",
          "height": 380
        },
        "id": "oca70dTf0OS6",
        "outputId": "a0998b29-d3ae-43a9-ee7d-d3646f4b40c6"
      },
      "source": [
        "#reading tsv file and print few lines.\r\n",
        "image_prediction = pd.read_csv('/content/drive/MyDrive/Colab Notebooks/udacity_projects/image-predictions.tsv', delimiter= '\\t')\r\n",
        "#image_prediction = pd.DataFrame(image_prediction)\r\n",
        "image_prediction.head()"
      ],
      "execution_count": 32,
      "outputs": [
        {
          "output_type": "execute_result",
          "data": {
            "text/html": [
              "<div>\n",
              "<style scoped>\n",
              "    .dataframe tbody tr th:only-of-type {\n",
              "        vertical-align: middle;\n",
              "    }\n",
              "\n",
              "    .dataframe tbody tr th {\n",
              "        vertical-align: top;\n",
              "    }\n",
              "\n",
              "    .dataframe thead th {\n",
              "        text-align: right;\n",
              "    }\n",
              "</style>\n",
              "<table border=\"1\" class=\"dataframe\">\n",
              "  <thead>\n",
              "    <tr style=\"text-align: right;\">\n",
              "      <th></th>\n",
              "      <th>tweet_id</th>\n",
              "      <th>jpg_url</th>\n",
              "      <th>img_num</th>\n",
              "      <th>p1</th>\n",
              "      <th>p1_conf</th>\n",
              "      <th>p1_dog</th>\n",
              "      <th>p2</th>\n",
              "      <th>p2_conf</th>\n",
              "      <th>p2_dog</th>\n",
              "      <th>p3</th>\n",
              "      <th>p3_conf</th>\n",
              "      <th>p3_dog</th>\n",
              "    </tr>\n",
              "  </thead>\n",
              "  <tbody>\n",
              "    <tr>\n",
              "      <th>0</th>\n",
              "      <td>666020888022790149</td>\n",
              "      <td>https://pbs.twimg.com/media/CT4udn0WwAA0aMy.jpg</td>\n",
              "      <td>1</td>\n",
              "      <td>Welsh_springer_spaniel</td>\n",
              "      <td>0.465074</td>\n",
              "      <td>True</td>\n",
              "      <td>collie</td>\n",
              "      <td>0.156665</td>\n",
              "      <td>True</td>\n",
              "      <td>Shetland_sheepdog</td>\n",
              "      <td>0.061428</td>\n",
              "      <td>True</td>\n",
              "    </tr>\n",
              "    <tr>\n",
              "      <th>1</th>\n",
              "      <td>666029285002620928</td>\n",
              "      <td>https://pbs.twimg.com/media/CT42GRgUYAA5iDo.jpg</td>\n",
              "      <td>1</td>\n",
              "      <td>redbone</td>\n",
              "      <td>0.506826</td>\n",
              "      <td>True</td>\n",
              "      <td>miniature_pinscher</td>\n",
              "      <td>0.074192</td>\n",
              "      <td>True</td>\n",
              "      <td>Rhodesian_ridgeback</td>\n",
              "      <td>0.072010</td>\n",
              "      <td>True</td>\n",
              "    </tr>\n",
              "    <tr>\n",
              "      <th>2</th>\n",
              "      <td>666033412701032449</td>\n",
              "      <td>https://pbs.twimg.com/media/CT4521TWwAEvMyu.jpg</td>\n",
              "      <td>1</td>\n",
              "      <td>German_shepherd</td>\n",
              "      <td>0.596461</td>\n",
              "      <td>True</td>\n",
              "      <td>malinois</td>\n",
              "      <td>0.138584</td>\n",
              "      <td>True</td>\n",
              "      <td>bloodhound</td>\n",
              "      <td>0.116197</td>\n",
              "      <td>True</td>\n",
              "    </tr>\n",
              "    <tr>\n",
              "      <th>3</th>\n",
              "      <td>666044226329800704</td>\n",
              "      <td>https://pbs.twimg.com/media/CT5Dr8HUEAA-lEu.jpg</td>\n",
              "      <td>1</td>\n",
              "      <td>Rhodesian_ridgeback</td>\n",
              "      <td>0.408143</td>\n",
              "      <td>True</td>\n",
              "      <td>redbone</td>\n",
              "      <td>0.360687</td>\n",
              "      <td>True</td>\n",
              "      <td>miniature_pinscher</td>\n",
              "      <td>0.222752</td>\n",
              "      <td>True</td>\n",
              "    </tr>\n",
              "    <tr>\n",
              "      <th>4</th>\n",
              "      <td>666049248165822465</td>\n",
              "      <td>https://pbs.twimg.com/media/CT5IQmsXIAAKY4A.jpg</td>\n",
              "      <td>1</td>\n",
              "      <td>miniature_pinscher</td>\n",
              "      <td>0.560311</td>\n",
              "      <td>True</td>\n",
              "      <td>Rottweiler</td>\n",
              "      <td>0.243682</td>\n",
              "      <td>True</td>\n",
              "      <td>Doberman</td>\n",
              "      <td>0.154629</td>\n",
              "      <td>True</td>\n",
              "    </tr>\n",
              "  </tbody>\n",
              "</table>\n",
              "</div>"
            ],
            "text/plain": [
              "             tweet_id  ... p3_dog\n",
              "0  666020888022790149  ...   True\n",
              "1  666029285002620928  ...   True\n",
              "2  666033412701032449  ...   True\n",
              "3  666044226329800704  ...   True\n",
              "4  666049248165822465  ...   True\n",
              "\n",
              "[5 rows x 12 columns]"
            ]
          },
          "metadata": {
            "tags": []
          },
          "execution_count": 32
        }
      ]
    },
    {
      "cell_type": "code",
      "metadata": {
        "id": "8Qnpq-kr2s_B"
      },
      "source": [
        "image = requests.get('https://pbs.twimg.com/media/CT4udn0WwAA0aMy.jpg')"
      ],
      "execution_count": null,
      "outputs": []
    },
    {
      "cell_type": "code",
      "metadata": {
        "colab": {
          "base_uri": "https://localhost:8080/"
        },
        "id": "Oa0rCN34lrT6",
        "outputId": "2a15536e-b1d4-48e4-9036-2fb26728270e"
      },
      "source": [
        "# Extract tweet ids from twitter archive and make a list\r\n",
        "api = tweepy.API(auth_handler=auth, \r\n",
        "                 parser=tweepy.parsers.JSONParser(),\r\n",
        "                 wait_on_rate_limit=True, \r\n",
        "                 wait_on_rate_limit_notify=True)\r\n",
        "# use a timer to indicate when the query of all of the tweet_id's is complete & how long it takes\r\n",
        "from timeit import default_timer as timer\r\n",
        "start = timer()\r\n",
        "df_list = []\r\n",
        "tweet_errors = []\r\n",
        "tweet_id_list = tweet_enhance['tweet_id'].tolist()\r\n",
        "for tweet_id in tweet_id_list:\r\n",
        "    try:\r\n",
        "        tweet = api.get_status(tweet_id, tweet_mode='extended')\r\n",
        "        favorite = tweet['favorite_count']\r\n",
        "        retweet = tweet['retweet_count']\r\n",
        "        df_list.append({'tweet_id': int(tweet_id), \r\n",
        "                        'favorites': int(favorite), \r\n",
        "                        'retweets': int(retweet)})\r\n",
        "                      \r\n",
        "    except Exception as e:\r\n",
        "        tweet_errors.append(tweet_id)\r\n",
        "        print(str(tweet_id) + \"_\" + str(e))\r\n",
        "                \r\n",
        "end = timer()\r\n",
        "print(end - start)"
      ],
      "execution_count": null,
      "outputs": [
        {
          "output_type": "stream",
          "text": [
            "888202515573088257_[{'code': 144, 'message': 'No status found with that ID.'}]\n",
            "873697596434513921_[{'code': 144, 'message': 'No status found with that ID.'}]\n",
            "872668790621863937_[{'code': 144, 'message': 'No status found with that ID.'}]\n",
            "872261713294495745_[{'code': 144, 'message': 'No status found with that ID.'}]\n",
            "869988702071779329_[{'code': 144, 'message': 'No status found with that ID.'}]\n",
            "866816280283807744_[{'code': 144, 'message': 'No status found with that ID.'}]\n",
            "861769973181624320_[{'code': 144, 'message': 'No status found with that ID.'}]\n",
            "856602993587888130_[{'code': 144, 'message': 'No status found with that ID.'}]\n",
            "851953902622658560_[{'code': 144, 'message': 'No status found with that ID.'}]\n",
            "845459076796616705_[{'code': 144, 'message': 'No status found with that ID.'}]\n",
            "844704788403113984_[{'code': 144, 'message': 'No status found with that ID.'}]\n",
            "842892208864923648_[{'code': 144, 'message': 'No status found with that ID.'}]\n",
            "837366284874571778_[{'code': 144, 'message': 'No status found with that ID.'}]\n",
            "837012587749474308_[{'code': 144, 'message': 'No status found with that ID.'}]\n",
            "829374341691346946_[{'code': 144, 'message': 'No status found with that ID.'}]\n",
            "827228250799742977_[{'code': 144, 'message': 'No status found with that ID.'}]\n",
            "812747805718642688_[{'code': 144, 'message': 'No status found with that ID.'}]\n",
            "802247111496568832_[{'code': 144, 'message': 'No status found with that ID.'}]\n",
            "779123168116150273_[{'code': 144, 'message': 'No status found with that ID.'}]\n",
            "775096608509886464_[{'code': 144, 'message': 'No status found with that ID.'}]\n",
            "771004394259247104_[{'code': 179, 'message': 'Sorry, you are not authorized to see this status.'}]\n",
            "770743923962707968_[{'code': 144, 'message': 'No status found with that ID.'}]\n",
            "759566828574212096_[{'code': 144, 'message': 'No status found with that ID.'}]\n"
          ],
          "name": "stdout"
        },
        {
          "output_type": "stream",
          "text": [
            "WARNING:tweepy.binder:Rate limit reached. Sleeping for: 735\n"
          ],
          "name": "stderr"
        },
        {
          "output_type": "stream",
          "text": [
            "754011816964026368_[{'code': 144, 'message': 'No status found with that ID.'}]\n",
            "680055455951884288_[{'code': 144, 'message': 'No status found with that ID.'}]\n"
          ],
          "name": "stdout"
        },
        {
          "output_type": "stream",
          "text": [
            "WARNING:tweepy.binder:Rate limit reached. Sleeping for: 734\n"
          ],
          "name": "stderr"
        },
        {
          "output_type": "stream",
          "text": [
            "1912.9758950469986\n"
          ],
          "name": "stdout"
        }
      ]
    },
    {
      "cell_type": "code",
      "metadata": {
        "id": "0Lm6CXK2KudC"
      },
      "source": [
        "import json\r\n",
        "with open('df_list.txt','w') as outfile:\r\n",
        "    json.dump(df_list, outfile)            "
      ],
      "execution_count": null,
      "outputs": []
    },
    {
      "cell_type": "code",
      "metadata": {
        "colab": {
          "base_uri": "https://localhost:8080/"
        },
        "id": "3UBFSX4rxf73",
        "outputId": "a6ee94a6-7a9e-41e3-b551-58d2546adaf9"
      },
      "source": [
        "# with open('df_list.txt') as json_file:\r\n",
        "#   data = json.load(json_file)\r\n",
        "#   for i in data:\r\n",
        "#     print(i)\r\n",
        "\r\n",
        "# Read as dict object using json.loads\r\n",
        "json_df = pd.read_table('df_list.txt', \r\n",
        "                       header=None,\r\n",
        "                       converters={column: json.loads for column in [0]}\r\n",
        "                      )\r\n",
        "# Convert to list object\r\n",
        "tweetlist = []\r\n",
        "for i in range(len(json_df)):\r\n",
        "    tweetlist.append(json_df[0][i])\r\n",
        "# Convert to DataFrame object\r\n",
        "json_df = pd.DataFrame(tweetlist)\r\n",
        "json_df"
      ],
      "execution_count": null,
      "outputs": [
        {
          "output_type": "execute_result",
          "data": {
            "text/html": [
              "<div>\n",
              "<style scoped>\n",
              "    .dataframe tbody tr th:only-of-type {\n",
              "        vertical-align: middle;\n",
              "    }\n",
              "\n",
              "    .dataframe tbody tr th {\n",
              "        vertical-align: top;\n",
              "    }\n",
              "\n",
              "    .dataframe thead th {\n",
              "        text-align: right;\n",
              "    }\n",
              "</style>\n",
              "<table border=\"1\" class=\"dataframe\">\n",
              "  <thead>\n",
              "    <tr style=\"text-align: right;\">\n",
              "      <th></th>\n",
              "      <th>0</th>\n",
              "      <th>1</th>\n",
              "      <th>2</th>\n",
              "      <th>3</th>\n",
              "      <th>4</th>\n",
              "      <th>5</th>\n",
              "      <th>6</th>\n",
              "      <th>7</th>\n",
              "      <th>8</th>\n",
              "      <th>9</th>\n",
              "      <th>10</th>\n",
              "      <th>11</th>\n",
              "      <th>12</th>\n",
              "      <th>13</th>\n",
              "      <th>14</th>\n",
              "      <th>15</th>\n",
              "      <th>16</th>\n",
              "      <th>17</th>\n",
              "      <th>18</th>\n",
              "      <th>19</th>\n",
              "      <th>20</th>\n",
              "      <th>21</th>\n",
              "      <th>22</th>\n",
              "      <th>23</th>\n",
              "      <th>24</th>\n",
              "      <th>25</th>\n",
              "      <th>26</th>\n",
              "      <th>27</th>\n",
              "      <th>28</th>\n",
              "      <th>29</th>\n",
              "      <th>30</th>\n",
              "      <th>31</th>\n",
              "      <th>32</th>\n",
              "      <th>33</th>\n",
              "      <th>34</th>\n",
              "      <th>35</th>\n",
              "      <th>36</th>\n",
              "      <th>37</th>\n",
              "      <th>38</th>\n",
              "      <th>39</th>\n",
              "      <th>...</th>\n",
              "      <th>2291</th>\n",
              "      <th>2292</th>\n",
              "      <th>2293</th>\n",
              "      <th>2294</th>\n",
              "      <th>2295</th>\n",
              "      <th>2296</th>\n",
              "      <th>2297</th>\n",
              "      <th>2298</th>\n",
              "      <th>2299</th>\n",
              "      <th>2300</th>\n",
              "      <th>2301</th>\n",
              "      <th>2302</th>\n",
              "      <th>2303</th>\n",
              "      <th>2304</th>\n",
              "      <th>2305</th>\n",
              "      <th>2306</th>\n",
              "      <th>2307</th>\n",
              "      <th>2308</th>\n",
              "      <th>2309</th>\n",
              "      <th>2310</th>\n",
              "      <th>2311</th>\n",
              "      <th>2312</th>\n",
              "      <th>2313</th>\n",
              "      <th>2314</th>\n",
              "      <th>2315</th>\n",
              "      <th>2316</th>\n",
              "      <th>2317</th>\n",
              "      <th>2318</th>\n",
              "      <th>2319</th>\n",
              "      <th>2320</th>\n",
              "      <th>2321</th>\n",
              "      <th>2322</th>\n",
              "      <th>2323</th>\n",
              "      <th>2324</th>\n",
              "      <th>2325</th>\n",
              "      <th>2326</th>\n",
              "      <th>2327</th>\n",
              "      <th>2328</th>\n",
              "      <th>2329</th>\n",
              "      <th>2330</th>\n",
              "    </tr>\n",
              "  </thead>\n",
              "  <tbody>\n",
              "    <tr>\n",
              "      <th>0</th>\n",
              "      <td>{'tweet_id': 892420643555336193, 'favorites': ...</td>\n",
              "      <td>{'tweet_id': 892177421306343426, 'favorites': ...</td>\n",
              "      <td>{'tweet_id': 891815181378084864, 'favorites': ...</td>\n",
              "      <td>{'tweet_id': 891689557279858688, 'favorites': ...</td>\n",
              "      <td>{'tweet_id': 891327558926688256, 'favorites': ...</td>\n",
              "      <td>{'tweet_id': 891087950875897856, 'favorites': ...</td>\n",
              "      <td>{'tweet_id': 890971913173991426, 'favorites': ...</td>\n",
              "      <td>{'tweet_id': 890729181411237888, 'favorites': ...</td>\n",
              "      <td>{'tweet_id': 890609185150312448, 'favorites': ...</td>\n",
              "      <td>{'tweet_id': 890240255349198849, 'favorites': ...</td>\n",
              "      <td>{'tweet_id': 890006608113172480, 'favorites': ...</td>\n",
              "      <td>{'tweet_id': 889880896479866881, 'favorites': ...</td>\n",
              "      <td>{'tweet_id': 889665388333682689, 'favorites': ...</td>\n",
              "      <td>{'tweet_id': 889638837579907072, 'favorites': ...</td>\n",
              "      <td>{'tweet_id': 889531135344209921, 'favorites': ...</td>\n",
              "      <td>{'tweet_id': 889278841981685760, 'favorites': ...</td>\n",
              "      <td>{'tweet_id': 888917238123831296, 'favorites': ...</td>\n",
              "      <td>{'tweet_id': 888804989199671297, 'favorites': ...</td>\n",
              "      <td>{'tweet_id': 888554962724278272, 'favorites': ...</td>\n",
              "      <td>{'tweet_id': 888078434458587136, 'favorites': ...</td>\n",
              "      <td>{'tweet_id': 887705289381826560, 'favorites': ...</td>\n",
              "      <td>{'tweet_id': 887517139158093824, 'favorites': ...</td>\n",
              "      <td>{'tweet_id': 887473957103951883, 'favorites': ...</td>\n",
              "      <td>{'tweet_id': 887343217045368832, 'favorites': ...</td>\n",
              "      <td>{'tweet_id': 887101392804085760, 'favorites': ...</td>\n",
              "      <td>{'tweet_id': 886983233522544640, 'favorites': ...</td>\n",
              "      <td>{'tweet_id': 886736880519319552, 'favorites': ...</td>\n",
              "      <td>{'tweet_id': 886680336477933568, 'favorites': ...</td>\n",
              "      <td>{'tweet_id': 886366144734445568, 'favorites': ...</td>\n",
              "      <td>{'tweet_id': 886267009285017600, 'favorites': ...</td>\n",
              "      <td>{'tweet_id': 886258384151887873, 'favorites': ...</td>\n",
              "      <td>{'tweet_id': 886054160059072513, 'favorites': ...</td>\n",
              "      <td>{'tweet_id': 885984800019947520, 'favorites': ...</td>\n",
              "      <td>{'tweet_id': 885528943205470208, 'favorites': ...</td>\n",
              "      <td>{'tweet_id': 885518971528720385, 'favorites': ...</td>\n",
              "      <td>{'tweet_id': 885311592912609280, 'favorites': ...</td>\n",
              "      <td>{'tweet_id': 885167619883638784, 'favorites': ...</td>\n",
              "      <td>{'tweet_id': 884925521741709313, 'favorites': ...</td>\n",
              "      <td>{'tweet_id': 884876753390489601, 'favorites': ...</td>\n",
              "      <td>{'tweet_id': 884562892145688576, 'favorites': ...</td>\n",
              "      <td>...</td>\n",
              "      <td>{'tweet_id': 666649482315059201, 'favorites': ...</td>\n",
              "      <td>{'tweet_id': 666644823164719104, 'favorites': ...</td>\n",
              "      <td>{'tweet_id': 666454714377183233, 'favorites': ...</td>\n",
              "      <td>{'tweet_id': 666447344410484738, 'favorites': ...</td>\n",
              "      <td>{'tweet_id': 666437273139982337, 'favorites': ...</td>\n",
              "      <td>{'tweet_id': 666435652385423360, 'favorites': ...</td>\n",
              "      <td>{'tweet_id': 666430724426358785, 'favorites': ...</td>\n",
              "      <td>{'tweet_id': 666428276349472768, 'favorites': ...</td>\n",
              "      <td>{'tweet_id': 666421158376562688, 'favorites': ...</td>\n",
              "      <td>{'tweet_id': 666418789513326592, 'favorites': ...</td>\n",
              "      <td>{'tweet_id': 666411507551481857, 'favorites': ...</td>\n",
              "      <td>{'tweet_id': 666407126856765440, 'favorites': ...</td>\n",
              "      <td>{'tweet_id': 666396247373291520, 'favorites': ...</td>\n",
              "      <td>{'tweet_id': 666373753744588802, 'favorites': ...</td>\n",
              "      <td>{'tweet_id': 666362758909284353, 'favorites': ...</td>\n",
              "      <td>{'tweet_id': 666353288456101888, 'favorites': ...</td>\n",
              "      <td>{'tweet_id': 666345417576210432, 'favorites': ...</td>\n",
              "      <td>{'tweet_id': 666337882303524864, 'favorites': ...</td>\n",
              "      <td>{'tweet_id': 666293911632134144, 'favorites': ...</td>\n",
              "      <td>{'tweet_id': 666287406224695296, 'favorites': ...</td>\n",
              "      <td>{'tweet_id': 666273097616637952, 'favorites': ...</td>\n",
              "      <td>{'tweet_id': 666268910803644416, 'favorites': ...</td>\n",
              "      <td>{'tweet_id': 666104133288665088, 'favorites': ...</td>\n",
              "      <td>{'tweet_id': 666102155909144576, 'favorites': ...</td>\n",
              "      <td>{'tweet_id': 666099513787052032, 'favorites': ...</td>\n",
              "      <td>{'tweet_id': 666094000022159362, 'favorites': ...</td>\n",
              "      <td>{'tweet_id': 666082916733198337, 'favorites': ...</td>\n",
              "      <td>{'tweet_id': 666073100786774016, 'favorites': ...</td>\n",
              "      <td>{'tweet_id': 666071193221509120, 'favorites': ...</td>\n",
              "      <td>{'tweet_id': 666063827256086533, 'favorites': ...</td>\n",
              "      <td>{'tweet_id': 666058600524156928, 'favorites': ...</td>\n",
              "      <td>{'tweet_id': 666057090499244032, 'favorites': ...</td>\n",
              "      <td>{'tweet_id': 666055525042405380, 'favorites': ...</td>\n",
              "      <td>{'tweet_id': 666051853826850816, 'favorites': ...</td>\n",
              "      <td>{'tweet_id': 666050758794694657, 'favorites': ...</td>\n",
              "      <td>{'tweet_id': 666049248165822465, 'favorites': ...</td>\n",
              "      <td>{'tweet_id': 666044226329800704, 'favorites': ...</td>\n",
              "      <td>{'tweet_id': 666033412701032449, 'favorites': ...</td>\n",
              "      <td>{'tweet_id': 666029285002620928, 'favorites': ...</td>\n",
              "      <td>{'tweet_id': 666020888022790149, 'favorites': ...</td>\n",
              "    </tr>\n",
              "  </tbody>\n",
              "</table>\n",
              "<p>1 rows × 2331 columns</p>\n",
              "</div>"
            ],
            "text/plain": [
              "                                                0     ...                                               2330\n",
              "0  {'tweet_id': 892420643555336193, 'favorites': ...  ...  {'tweet_id': 666020888022790149, 'favorites': ...\n",
              "\n",
              "[1 rows x 2331 columns]"
            ]
          },
          "metadata": {
            "tags": []
          },
          "execution_count": 26
        }
      ]
    },
    {
      "cell_type": "code",
      "metadata": {
        "id": "jNQ1Kwq_iT0n"
      },
      "source": [
        ""
      ],
      "execution_count": null,
      "outputs": []
    }
  ]
}